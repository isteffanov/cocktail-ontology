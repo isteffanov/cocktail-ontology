{
 "cells": [
  {
   "cell_type": "code",
   "execution_count": 1,
   "metadata": {},
   "outputs": [],
   "source": [
    "import owlready2 as owl\n",
    "from pathlib import Path\n",
    "\n",
    "onto = owl.get_ontology('/home/ivanstefanov/Repositories/bar-ontology/bar.owl')"
   ]
  },
  {
   "cell_type": "markdown",
   "metadata": {},
   "source": [
    "### Top level concepts and roles"
   ]
  },
  {
   "cell_type": "code",
   "execution_count": 2,
   "metadata": {},
   "outputs": [],
   "source": [
    "with onto:\n",
    "    class Drink(owl.Thing): pass\n",
    "    class Garnish(owl.Thing): pass\n",
    "    class Ingredient(owl.Thing): pass\n",
    "    class Technique(owl.Thing): pass\n",
    "    \n",
    "    class has_abv(onto.Drink >> int, owl.FunctionalProperty): pass \n",
    "    class has_for_ingredient(onto.Drink >> onto.Ingredient): pass"
   ]
  },
  {
   "cell_type": "markdown",
   "metadata": {},
   "source": [
    "### Drink types with restrictions"
   ]
  },
  {
   "cell_type": "code",
   "execution_count": 3,
   "metadata": {},
   "outputs": [],
   "source": [
    "with onto:\n",
    "    class AlcoholicDrink(onto.Drink, onto.Ingredient): \n",
    "        equivalent_to = [onto.Drink & owl.Not(has_abv.value(0))]\n",
    "        \n",
    "    class NonAlcoholicDrink(onto.Drink, onto.Ingredient): \n",
    "        equivalent_to = [onto.Drink & has_abv.value(0)]\n",
    "        \n",
    "    class Cocktail(onto.Drink): \n",
    "        equivalent_to = [onto.Drink & has_for_ingredient.min(2, onto.Ingredient)]"
   ]
  },
  {
   "cell_type": "markdown",
   "metadata": {},
   "source": [
    "### Other drink concepts"
   ]
  },
  {
   "cell_type": "code",
   "execution_count": 4,
   "metadata": {},
   "outputs": [],
   "source": [
    "with onto:\n",
    "    class Beer(AlcoholicDrink, onto.Ingredient): pass\n",
    "    class Liqueur(AlcoholicDrink, onto.Ingredient): pass\n",
    "    class Spirit(AlcoholicDrink, onto.Ingredient): pass\n",
    "    class Wine(AlcoholicDrink, onto.Ingredient): pass\n",
    "    owl.AllDisjoint([Beer, Liqueur, Spirit, Wine])\n",
    "    \n",
    "    class CarbonatedNonAlcoholicDrink(NonAlcoholicDrink): pass\n",
    "    class StillNonAlcoholicDrink(NonAlcoholicDrink): pass\n",
    "    owl.AllDisjoint([CarbonatedNonAlcoholicDrink, StillNonAlcoholicDrink])\n",
    "    \n",
    "    class Juice(StillNonAlcoholicDrink): pass\n",
    "    \n",
    "    class Redbull(CarbonatedNonAlcoholicDrink): pass\n",
    "    class Soda(CarbonatedNonAlcoholicDrink): pass\n",
    "    owl.AllDisjoint([Redbull, Soda])\n",
    "    \n",
    "    class Syrup(onto.Ingredient): pass\n",
    "    class EggWhite(onto.Ingredient): pass\n",
    "    owl.AllDisjoint([Syrup, EggWhite])"
   ]
  },
  {
   "cell_type": "markdown",
   "metadata": {},
   "source": [
    "### Cocktail roles"
   ]
  },
  {
   "cell_type": "code",
   "execution_count": 5,
   "metadata": {},
   "outputs": [],
   "source": [
    "with onto:\n",
    "    class is_made_with_technique(Cocktail >> Technique): pass\n",
    "    class has_for_garnish(Cocktail >> Garnish): pass\n",
    "    class has_for_spirits(has_for_ingredient):\n",
    "        domain = [Cocktail]\n",
    "        range = [Spirit]\n",
    "        \n",
    "    class has_quantity(onto.Ingredient >> int, owl.FunctionalProperty): pass\n",
    "    class has_making_process(Drink >> str): pass\n",
    "    class has_story(has_making_process, owl.FunctionalProperty): \n",
    "        domain = [Cocktail]\n",
    "        range = [str]\n",
    "        \n",
    "    class is_ingredient_of(onto.Ingredient >> Cocktail):\n",
    "        inverse_property = has_for_ingredient\n",
    "        \n",
    "    class is_used_in_making_of(Technique >> Cocktail):\n",
    "        inverse_property = is_made_with_technique\n",
    "        \n",
    "    class is_used_to_garnish(Garnish >> Cocktail):\n",
    "        inverse_property = has_for_garnish"
   ]
  },
  {
   "cell_type": "markdown",
   "metadata": {},
   "source": [
    "### Specific spirits"
   ]
  },
  {
   "cell_type": "code",
   "execution_count": 6,
   "metadata": {},
   "outputs": [],
   "source": [
    "with onto:\n",
    "    class Vodka(Spirit): \n",
    "        has_making_process = Path('stories/vodka.txt').read_text()\n",
    "        has_abv = 37\n",
    "    class Gin(Spirit): \n",
    "        has_making_process = Path('stories/gin.txt').read_text()\n",
    "        has_abv = 40\n",
    "        \n",
    "    class Jagermeister(Liqueur): \n",
    "        has_making_process = Path('stories/jager.txt').read_text()\n",
    "        has_abv = 50"
   ]
  },
  {
   "cell_type": "markdown",
   "metadata": {},
   "source": [
    "### Cocktails by spirits"
   ]
  },
  {
   "cell_type": "code",
   "execution_count": 7,
   "metadata": {},
   "outputs": [],
   "source": [
    "with onto:\n",
    "    class VodkaCocktail(Cocktail):\n",
    "        equivalent_to = [Cocktail & has_for_ingredient.some(Vodka)]\n",
    "        \n",
    "    class GinCocktail(Cocktail):\n",
    "        equivalent_to = [Cocktail & has_for_ingredient.some(Gin)]\n",
    "        \n",
    "    class HardCocktail(Cocktail):\n",
    "        equivalent_to = [Cocktail & has_for_ingredient.min(2, AlcoholicDrink)]"
   ]
  },
  {
   "cell_type": "markdown",
   "metadata": {},
   "source": [
    "### Technique constants"
   ]
  },
  {
   "cell_type": "code",
   "execution_count": 8,
   "metadata": {},
   "outputs": [
    {
     "data": {
      "text/plain": [
       "AllDisjoint([bar.building, bar.shaking, bar.dry-shaking, bar.straining, bar.stirring, bar.bombing])"
      ]
     },
     "execution_count": 8,
     "metadata": {},
     "output_type": "execute_result"
    }
   ],
   "source": [
    "building = Technique('building')\n",
    "shaking = Technique('shaking')\n",
    "dry_shaking = Technique('dry-shaking')\n",
    "straining = Technique('straining')\n",
    "stirring = Technique('stirring')\n",
    "bombing = Technique('bombing')\n",
    "\n",
    "owl.AllDifferent([building, shaking, dry_shaking, straining, stirring, bombing])"
   ]
  },
  {
   "cell_type": "markdown",
   "metadata": {},
   "source": [
    "### Cocktail constants"
   ]
  },
  {
   "cell_type": "code",
   "execution_count": 9,
   "metadata": {},
   "outputs": [],
   "source": [
    "vodka_60ml = Vodka('60ml-of-vodka', has_quantity=60)\n",
    "lime_juice_30ml = Juice('30ml-of-lime-juice', has_quantity=30)\n",
    "simple_syrup_15ml = Syrup('15ml-of-simple-syrup', has_quantity=15)\n",
    "lime_wheel = Garnish('lime-wheel')\n",
    "gimlet = VodkaCocktail('gimlet')\n",
    "gimlet.has_for_ingredient = [vodka_60ml, lime_juice_30ml, simple_syrup_15ml]\n",
    "gimlet.is_made_with_technique = [shaking, straining]\n",
    "gimlet.has_for_garnish = [lime_wheel]\n",
    "gimlet.has_story = Path('stories/vodka-gimlet.txt').read_text()"
   ]
  },
  {
   "cell_type": "code",
   "execution_count": 10,
   "metadata": {},
   "outputs": [],
   "source": [
    "gin_60ml = Gin('30ml-of-gin', has_quantity=60)\n",
    "lemon_juice_30ml = Juice('30ml-of-lemon-juice', has_quantity=30)\n",
    "egg_white = EggWhite('about-1-ounce-of-egg-white', has_quantity=1)\n",
    "soda = Soda('soda')\n",
    "gin_fizz = GinCocktail('gin-fizz')\n",
    "gin_fizz.has_for_ingredient = [gin_60ml, lemon_juice_30ml, egg_white, soda]\n",
    "gin_fizz.is_made_with_technique = [building, stirring]\n",
    "gin_fizz.has_story = Path('stories/gin-fizz.txt').read_text()"
   ]
  },
  {
   "cell_type": "code",
   "execution_count": 11,
   "metadata": {},
   "outputs": [],
   "source": [
    "ginger_beer_90ml = CarbonatedNonAlcoholicDrink('90ml-of-ginger-beer', has_quantity=90)\n",
    "moscow_mule = VodkaCocktail('moscow-mule')\n",
    "moscow_mule.has_for_ingredient = [vodka_60ml, lime_juice_30ml, ginger_beer_90ml]\n",
    "moscow_mule.is_made_with_technique = [building, stirring]\n",
    "moscow_mule.has_for_garnish = [lime_wheel]\n",
    "moscow_mule.has_story = Path('stories/moscow-mule.txt').read_text()"
   ]
  },
  {
   "cell_type": "code",
   "execution_count": 12,
   "metadata": {},
   "outputs": [],
   "source": [
    "jager_45ml = Jagermeister('45ml-of-jagermeister', has_quantity=45)\n",
    "redbull_90ml = Redbull('about-half-a-can-of-redbull', has_quantity=90)\n",
    "jager_bomb = Cocktail('jager-bomb')\n",
    "jager_bomb.has_for_ingredient = [jager_45ml, redbull_90ml]\n",
    "jager_bomb.is_made_with_technique = [bombing]"
   ]
  },
  {
   "cell_type": "markdown",
   "metadata": {},
   "source": [
    "### Reasoning examples"
   ]
  },
  {
   "cell_type": "code",
   "execution_count": 13,
   "metadata": {},
   "outputs": [],
   "source": [
    "unknown_cocktail1 = Cocktail('unknown-cocktail1')\n",
    "unknown_cocktail1.has_for_ingredient = [vodka_60ml, soda]\n",
    "unknown_cocktail1.is_made_with_technique = [building]"
   ]
  },
  {
   "cell_type": "code",
   "execution_count": 14,
   "metadata": {},
   "outputs": [],
   "source": [
    "unknown_cocktail2 = Cocktail('unknown_cocktail2')\n",
    "unknown_cocktail2.has_for_ingredient = [Beer, Jagermeister]\n",
    "unknown_cocktail2.is_made_with_technique = [bombing]"
   ]
  },
  {
   "cell_type": "code",
   "execution_count": 15,
   "metadata": {},
   "outputs": [],
   "source": [
    "unknown_cocktail3 = Cocktail('unknown_cocktail3')\n",
    "unknown_cocktail3.has_for_ingredient = [vodka_60ml, gin_60ml, redbull_90ml, soda]"
   ]
  },
  {
   "cell_type": "code",
   "execution_count": 39,
   "metadata": {},
   "outputs": [
    {
     "name": "stderr",
     "output_type": "stream",
     "text": [
      "* Owlready2 * Running Pellet...\n",
      "    java -Xmx2000M -cp /home/ivanstefanov/.pyenv/versions/3.10.1/envs/ml/lib/python3.10/site-packages/owlready2/pellet/httpcore-4.2.2.jar:/home/ivanstefanov/.pyenv/versions/3.10.1/envs/ml/lib/python3.10/site-packages/owlready2/pellet/antlr-3.2.jar:/home/ivanstefanov/.pyenv/versions/3.10.1/envs/ml/lib/python3.10/site-packages/owlready2/pellet/jena-tdb-0.10.0.jar:/home/ivanstefanov/.pyenv/versions/3.10.1/envs/ml/lib/python3.10/site-packages/owlready2/pellet/jcl-over-slf4j-1.6.4.jar:/home/ivanstefanov/.pyenv/versions/3.10.1/envs/ml/lib/python3.10/site-packages/owlready2/pellet/log4j-api-2.19.0.jar:/home/ivanstefanov/.pyenv/versions/3.10.1/envs/ml/lib/python3.10/site-packages/owlready2/pellet/antlr-runtime-3.2.jar:/home/ivanstefanov/.pyenv/versions/3.10.1/envs/ml/lib/python3.10/site-packages/owlready2/pellet/jgrapht-jdk1.5.jar:/home/ivanstefanov/.pyenv/versions/3.10.1/envs/ml/lib/python3.10/site-packages/owlready2/pellet/jena-iri-0.9.5.jar:/home/ivanstefanov/.pyenv/versions/3.10.1/envs/ml/lib/python3.10/site-packages/owlready2/pellet/owlapi-distribution-3.4.3-bin.jar:/home/ivanstefanov/.pyenv/versions/3.10.1/envs/ml/lib/python3.10/site-packages/owlready2/pellet/log4j-1.2-api-2.19.0.jar:/home/ivanstefanov/.pyenv/versions/3.10.1/envs/ml/lib/python3.10/site-packages/owlready2/pellet/commons-codec-1.6.jar:/home/ivanstefanov/.pyenv/versions/3.10.1/envs/ml/lib/python3.10/site-packages/owlready2/pellet/xml-apis-1.4.01.jar:/home/ivanstefanov/.pyenv/versions/3.10.1/envs/ml/lib/python3.10/site-packages/owlready2/pellet/log4j-core-2.19.0.jar:/home/ivanstefanov/.pyenv/versions/3.10.1/envs/ml/lib/python3.10/site-packages/owlready2/pellet/pellet-2.3.1.jar:/home/ivanstefanov/.pyenv/versions/3.10.1/envs/ml/lib/python3.10/site-packages/owlready2/pellet/httpclient-4.2.3.jar:/home/ivanstefanov/.pyenv/versions/3.10.1/envs/ml/lib/python3.10/site-packages/owlready2/pellet/aterm-java-1.6.jar:/home/ivanstefanov/.pyenv/versions/3.10.1/envs/ml/lib/python3.10/site-packages/owlready2/pellet/jena-core-2.10.0.jar:/home/ivanstefanov/.pyenv/versions/3.10.1/envs/ml/lib/python3.10/site-packages/owlready2/pellet/xercesImpl-2.10.0.jar:/home/ivanstefanov/.pyenv/versions/3.10.1/envs/ml/lib/python3.10/site-packages/owlready2/pellet/slf4j-log4j12-1.6.4.jar:/home/ivanstefanov/.pyenv/versions/3.10.1/envs/ml/lib/python3.10/site-packages/owlready2/pellet/jena-arq-2.10.0.jar:/home/ivanstefanov/.pyenv/versions/3.10.1/envs/ml/lib/python3.10/site-packages/owlready2/pellet/slf4j-api-1.6.4.jar pellet.Pellet realize --loader Jena --input-format N-Triples --infer-prop-values --infer-data-prop-values --ignore-imports /tmp/tmpvmom3qec\n"
     ]
    },
    {
     "name": "stdout",
     "output_type": "stream",
     "text": [
      "* Owlready * Adding relation bar.60ml-of-vodka has_making_process Traditional vodka is made from two raw materials: water and ethanol \\\\nfrom the fermentation of cereal grains (like wheat, sorghum, or rye).\\\\nMany vodka brands use other base ingredients (like potatoes and \\\\nsugar beets) and additives (like botanicals and spices) to achieve \\\\ndistinctive character in their liquor. After fermenting and \\\\ndistilling, vodka undergoes a filtration and refining process to \\\\nremove impurities and achieve a smooth mouthfeel.\n",
      "* Owlready * Adding relation bar.45ml-of-jagermeister has_making_process Jägermeister\\\\\\'s ingredients include 56 herbs, fruits, roots, and \\\\nspices, including citrus peel, licorice, anise, poppy seeds, \\\\nsaffron, ginger, juniper berries, and ginseng.[14] These ingredients\\\\nare ground, then steeped in water and alcohol for two to three days.\\\\nThis mixture is filtered and stored in oak barrels for about a year.\\\\nThen the liqueur is filtered again, and mixed with sugar, caramel \\\\nand alcohol.\n",
      "* Owlready * Adding relation bar.gin-fizz has_making_process First appearing in the 1887 edition of the Bartenders Guide by Jerry Thomas,\\\\nthe gin fizz is a fantastic cocktail. A combination of a gin sour with egg \\\\nwhites and a gin daisy, the gin fizz is light, airy, and refreshing.\n",
      "* Owlready * Adding relation bar.gin-fizz has_story First appearing in the 1887 edition of the Bartenders Guide by Jerry Thomas,\\nthe gin fizz is a fantastic cocktail. A combination of a gin sour with egg \\nwhites and a gin daisy, the gin fizz is light, airy, and refreshing.\n",
      "* Owlready * Adding relation bar.30ml-of-gin has_making_process Gin is a type of spirit characterized by the flavor of juniper \\\\nberries. Gin makers produce gin by infusing a neutral spirit with \\\\nbotanical ingredients during the distillation process. For liquor to\\\\nbe classified as gin in the United States, it must contain at least \\\\n40 percent alcohol by volume (ABV). There are many different types \\\\nof gin, including Old Tom, Plymouth, Genever, and London Dry, and an\\\\narray of cocktails featuring the popular spirit, such as the classic\\\\nGin and Tonic, Tom Collins, and the French 75.\n",
      "* Owlready * Adding relation bar.gimlet has_making_process At a time when scurvy was rife on ships, this combination of gin and citrus \\\\njuice was thought to cure the ailment. Scurvy is a vitamin C deficiency \\\\ncharacterised by anaemia, fatigue, bruising and bleeding. When citrus juice \\\\nwas available, it was treated as a gift from the Gods, helping to bring \\\\nthose at the brink of exhaustion back to life in a relatively short time. \\\\nThe addition of gin was to lessen the sharp taste of the lime juice, and so \\\\nthe Gimlet was born, named after the doctor, Rear-Admiral Sir Thomas Desmond\\\\nGimlette.\n",
      "* Owlready * Adding relation bar.gimlet has_story At a time when scurvy was rife on ships, this combination of gin and citrus \\njuice was thought to cure the ailment. Scurvy is a vitamin C deficiency \\ncharacterised by anaemia, fatigue, bruising and bleeding. When citrus juice \\nwas available, it was treated as a gift from the Gods, helping to bring \\nthose at the brink of exhaustion back to life in a relatively short time. \\nThe addition of gin was to lessen the sharp taste of the lime juice, and so \\nthe Gimlet was born, named after the doctor, Rear-Admiral Sir Thomas Desmond\\nGimlette.\n",
      "* Owlready * Adding relation bar.moscow-mule has_making_process While there are numerous accounts of exactly how the Moscow Mule came to be,\\\\nthe underlying origins seem to remain unanimous in theory. You need to keep \\\\nin mind that the Moscow Mule was created during a time before documenting \\\\nfood and beverages was an actual career. It\\\\\\26031s thanks to oral traditions, \\\\nbetween people who were there, that we have all of this information. \n",
      "* Owlready * Adding relation bar.moscow-mule has_story While there are numerous accounts of exactly how the Moscow Mule came to be,\\nthe underlying origins seem to remain unanimous in theory. You need to keep \\nin mind that the Moscow Mule was created during a time before documenting \\nfood and beverages was an actual career. It\\°31s thanks to oral traditions, \\nbetween people who were there, that we have all of this information. \n"
     ]
    },
    {
     "name": "stderr",
     "output_type": "stream",
     "text": [
      "* Owlready2 * Pellet took 1.575838565826416 seconds\n",
      "* Owlready * Reparenting bar.Beer: {bar.Ingredient, bar.AlcoholicDrink} => {bar.AlcoholicDrink}\n",
      "* Owlready * Reparenting bar.Liqueur: {bar.Ingredient, bar.AlcoholicDrink} => {bar.AlcoholicDrink}\n",
      "* Owlready * Reparenting bar.Spirit: {bar.Ingredient, bar.AlcoholicDrink} => {bar.AlcoholicDrink}\n",
      "* Owlready * Reparenting bar.Wine: {bar.Ingredient, bar.AlcoholicDrink} => {bar.AlcoholicDrink}\n",
      "* Owlready * (NB: only changes on entities loaded in Python are shown, other changes are done but not listed)\n"
     ]
    }
   ],
   "source": [
    "with onto:\n",
    "    owl.sync_reasoner_pellet(infer_property_values = True, infer_data_property_values = True)"
   ]
  },
  {
   "cell_type": "code",
   "execution_count": 17,
   "metadata": {},
   "outputs": [
    {
     "data": {
      "text/plain": [
       "[bar.Cocktail, bar.VodkaCocktail]"
      ]
     },
     "execution_count": 17,
     "metadata": {},
     "output_type": "execute_result"
    }
   ],
   "source": [
    "onto.get_parents_of(unknown_cocktail1)"
   ]
  },
  {
   "cell_type": "code",
   "execution_count": 18,
   "metadata": {},
   "outputs": [
    {
     "data": {
      "text/plain": [
       "[bar.Cocktail]"
      ]
     },
     "execution_count": 18,
     "metadata": {},
     "output_type": "execute_result"
    }
   ],
   "source": [
    "onto.get_parents_of(unknown_cocktail2)"
   ]
  },
  {
   "cell_type": "code",
   "execution_count": 19,
   "metadata": {},
   "outputs": [
    {
     "data": {
      "text/plain": [
       "[bar.Cocktail, bar.GinCocktail, bar.HardCocktail, bar.VodkaCocktail]"
      ]
     },
     "execution_count": 19,
     "metadata": {},
     "output_type": "execute_result"
    }
   ],
   "source": [
    "onto.get_parents_of(unknown_cocktail3)"
   ]
  },
  {
   "cell_type": "code",
   "execution_count": null,
   "metadata": {},
   "outputs": [],
   "source": []
  }
 ],
 "metadata": {
  "kernelspec": {
   "display_name": "Python 3.10.1 64-bit ('ml')",
   "language": "python",
   "name": "python3"
  },
  "language_info": {
   "codemirror_mode": {
    "name": "ipython",
    "version": 3
   },
   "file_extension": ".py",
   "mimetype": "text/x-python",
   "name": "python",
   "nbconvert_exporter": "python",
   "pygments_lexer": "ipython3",
   "version": "3.10.1"
  },
  "orig_nbformat": 4,
  "vscode": {
   "interpreter": {
    "hash": "c7c65ae8014d71298db09a85590af18216f9a413b1d501fc11df45c6c0936e11"
   }
  }
 },
 "nbformat": 4,
 "nbformat_minor": 2
}
